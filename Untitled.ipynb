{
 "cells": [
  {
   "cell_type": "markdown",
   "id": "f0f24302",
   "metadata": {},
   "source": [
    "# 1. 기본 준비사항\n",
    "\n",
    "다운로드, 데이터셋 준비 진행."
   ]
  },
  {
   "cell_type": "code",
   "execution_count": 3,
   "id": "42ed4d22",
   "metadata": {},
   "outputs": [],
   "source": [
    "from torch.utils.data import DataLoader\n",
    "from torchvision import transforms, datasets\n",
    "import numpy as np\n",
    "from sklearn import svm\n",
    "from sklearn.metrics import accuracy_score\n",
    "from sklearn.tree import DecisionTreeClassifier\n",
    "from scipy.stats import randint\n",
    "from sklearn.model_selection import GridSearchCV\n"
   ]
  },
  {
   "cell_type": "markdown",
   "id": "d1fe3553",
   "metadata": {},
   "source": [
    "## 1-1. MNIST"
   ]
  },
  {
   "cell_type": "code",
   "execution_count": 4,
   "id": "eb766433",
   "metadata": {},
   "outputs": [],
   "source": [
    "mnist_train_transform = transforms.Compose([transforms.ToTensor()])\n",
    "mnist_test_transform = transforms.Compose([transforms.ToTensor()])\n"
   ]
  },
  {
   "cell_type": "code",
   "execution_count": 6,
   "id": "940e0e29",
   "metadata": {},
   "outputs": [],
   "source": [
    "trainset_mnist = datasets.MNIST(root='./data', train=True, download=True, transform=mnist_train_transform)\n",
    "testset_mnist = datasets.MNIST(root='./data', train=False, download=True, transform=mnist_test_transform)"
   ]
  },
  {
   "cell_type": "code",
   "execution_count": 10,
   "id": "1af3b752",
   "metadata": {},
   "outputs": [],
   "source": [
    "MNIST_train = DataLoader(trainset_mnist, batch_size=32, shuffle=True, num_workers=2)\n",
    "MNIST_test = DataLoader(testset_mnist, batch_size=32, shuffle=False, num_workers=2)\n",
    "\n",
    "MNIST_train_images = []\n",
    "MNIST_train_labels = []\n",
    "\n",
    "for batch in MNIST_train:\n",
    "    images, labels = batch\n",
    "    images_flat = images.view(images.shape[0], -1)\n",
    "    MNIST_train_images.append(images_flat.numpy())\n",
    "    MNIST_train_labels.append(labels.numpy())\n",
    "    \n",
    "MNIST_train_images = np.vstack(MNIST_train_images)\n",
    "MNIST_train_labels = np.concatenate(MNIST_train_labels)\n",
    "    \n",
    "    \n",
    "MNIST_test_images = []\n",
    "MNIST_test_labels = []\n",
    "\n",
    "for batch in MNIST_test:\n",
    "    images, labels = batch\n",
    "    images_flat = images.view(images.shape[0], -1)\n",
    "    MNIST_test_images.append(images_flat.numpy())\n",
    "    MNIST_test_labels.append(labels.numpy())\n",
    "    \n",
    "MNIST_test_images = np.vstack(MNIST_test_images)\n",
    "MNIST_test_labels = np.concatenate(MNIST_test_labels)"
   ]
  },
  {
   "cell_type": "markdown",
   "id": "2fc35993",
   "metadata": {},
   "source": [
    "# 1-2. CIFAR"
   ]
  },
  {
   "cell_type": "code",
   "execution_count": 15,
   "id": "8da65cac",
   "metadata": {},
   "outputs": [],
   "source": [
    "CIFAR_train_transform = transforms.Compose([transforms.ToTensor()])\n",
    "CIFAR_test_transform = transforms.Compose([transforms.ToTensor()])"
   ]
  },
  {
   "cell_type": "code",
   "execution_count": 16,
   "id": "44537e07",
   "metadata": {},
   "outputs": [
    {
     "name": "stdout",
     "output_type": "stream",
     "text": [
      "Downloading https://www.cs.toronto.edu/~kriz/cifar-10-python.tar.gz to ./data\\cifar-10-python.tar.gz\n"
     ]
    },
    {
     "name": "stderr",
     "output_type": "stream",
     "text": [
      "100.0%\n"
     ]
    },
    {
     "name": "stdout",
     "output_type": "stream",
     "text": [
      "Extracting ./data\\cifar-10-python.tar.gz to ./data\n",
      "Files already downloaded and verified\n"
     ]
    }
   ],
   "source": [
    "trainset_CIFAR = datasets.CIFAR10(root='./data', train=True, download=True, transform=CIFAR_train_transform)\n",
    "testset_CIFAR = datasets.CIFAR10(root='./data', train=False, download=True,transform=CIFAR_test_transform)"
   ]
  },
  {
   "cell_type": "code",
   "execution_count": 17,
   "id": "708b2b7f",
   "metadata": {},
   "outputs": [],
   "source": [
    "CIFAR_train = DataLoader(trainset_CIFAR, batch_size=32, shuffle=True, num_workers=2)\n",
    "CIFAR_test = DataLoader(testset_CIFAR, batch_size=32, shuffle=False, num_workers=2)\n",
    "\n",
    "CIFAR_train_images = []\n",
    "CIFAR_train_labels = []\n",
    "\n",
    "for batch in CIFAR_train:\n",
    "    images, labels = batch\n",
    "    images_flat = images.view(images.shape[0], -1)\n",
    "    CIFAR_train_images.append(images_flat.numpy())\n",
    "    CIFAR_train_labels.append(labels.numpy())\n",
    "    \n",
    "CIFAR_train_images = np.vstack(CIFAR_train_images)\n",
    "CIFAR_train_labels = np.concatenate(CIFAR_train_labels)\n",
    "\n",
    "\n",
    "CIFAR_test_images = []\n",
    "CIFAR_test_labels = []\n",
    "\n",
    "for batch in CIFAR_test:\n",
    "    images, labels = batch\n",
    "    images_flat = images.view(images.shape[0], -1)\n",
    "    CIFAR_test_images.append(images_flat.numpy())\n",
    "    CIFAR_test_labels.append(labels.numpy())\n",
    "CIFAR_test_images = np.vstack(CIFAR_test_images)\n",
    "CIFAR_test_labels = np.concatenate(CIFAR_test_labels)"
   ]
  },
  {
   "cell_type": "code",
   "execution_count": null,
   "id": "20a95703",
   "metadata": {},
   "outputs": [],
   "source": []
  }
 ],
 "metadata": {
  "kernelspec": {
   "display_name": "ML assignment",
   "language": "python",
   "name": ".venv"
  },
  "language_info": {
   "codemirror_mode": {
    "name": "ipython",
    "version": 3
   },
   "file_extension": ".py",
   "mimetype": "text/x-python",
   "name": "python",
   "nbconvert_exporter": "python",
   "pygments_lexer": "ipython3",
   "version": "3.11.0"
  }
 },
 "nbformat": 4,
 "nbformat_minor": 5
}
